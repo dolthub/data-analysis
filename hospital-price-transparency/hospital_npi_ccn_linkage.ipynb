{
 "cells": [
  {
   "cell_type": "markdown",
   "id": "dc08f46d-6403-4294-8cd6-64094f9e3e95",
   "metadata": {},
   "source": [
    "# Getting hospital NPI info\n",
    "https://data.cms.gov/provider-characteristics/hospitals-and-other-facilities/hospital-enrollments"
   ]
  },
  {
   "cell_type": "code",
   "execution_count": 106,
   "id": "a13b7a1c-1197-417b-925a-dc0979e897a8",
   "metadata": {},
   "outputs": [],
   "source": [
    "addl_url = 'https://data.cms.gov/sites/default/files/2023-02/c7f364e7-8816-46d1-9627-8966dbe06390/Hospital_Additional_NPIs_2023.02.01.csv'\n",
    "hosp_url = 'https://data.cms.gov/sites/default/files/2023-02/26b98405-95dc-46eb-89aa-eb2e3516bc8d/Hospital_Enrollments_2023.02.01.csv'\n",
    "hosp = pl.read_csv(hosp_url, encoding = 'utf8-lossy', infer_schema_length = 0, dtypes = {'NPI': int})\n",
    "addl = pl.read_csv(addl_url, infer_schema_length = 0, dtypes = {'NPI': int})"
   ]
  },
  {
   "cell_type": "code",
   "execution_count": 108,
   "id": "0c959715-e1ab-44da-9d72-85d49f0f62a8",
   "metadata": {},
   "outputs": [],
   "source": [
    "ccn_npi = hosp.select(['ENROLLMENT ID', 'NPI'])"
   ]
  },
  {
   "cell_type": "code",
   "execution_count": 109,
   "id": "4c7a468b-f3f4-4a82-9075-9c1e4ae126e6",
   "metadata": {},
   "outputs": [],
   "source": [
    "ccn_npi = pl.concat([ccn_npi, addl])"
   ]
  },
  {
   "cell_type": "code",
   "execution_count": 110,
   "id": "dddb20e2-9129-47c5-943b-3da5ae9819d5",
   "metadata": {},
   "outputs": [],
   "source": [
    "hosp = hosp.drop('NPI')"
   ]
  },
  {
   "cell_type": "code",
   "execution_count": 111,
   "id": "b9017bed-ee3c-4a8e-ad68-6d070e60744c",
   "metadata": {},
   "outputs": [],
   "source": [
    "hosp.sort('CCN').write_csv('hospitals.csv')\n",
    "ccn_npi.sort('ENROLLMENT ID').write_csv('ccn_npi.csv')"
   ]
  }
 ],
 "metadata": {
  "kernelspec": {
   "display_name": "Python 3 (ipykernel)",
   "language": "python",
   "name": "python3"
  },
  "language_info": {
   "codemirror_mode": {
    "name": "ipython",
    "version": 3
   },
   "file_extension": ".py",
   "mimetype": "text/x-python",
   "name": "python",
   "nbconvert_exporter": "python",
   "pygments_lexer": "ipython3",
   "version": "3.10.8"
  }
 },
 "nbformat": 4,
 "nbformat_minor": 5
}
